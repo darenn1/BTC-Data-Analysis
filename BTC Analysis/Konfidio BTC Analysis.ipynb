{
 "cells": [
  {
   "cell_type": "markdown",
   "metadata": {},
   "source": [
    "# “Real” Bitcoin Trading Volume"
   ]
  },
  {
   "cell_type": "markdown",
   "metadata": {},
   "source": [
    "## Overview:"
   ]
  },
  {
   "cell_type": "markdown",
   "metadata": {},
   "source": [
    "##### ● Aggregating the “real” volume of Bitcoin from January 1st, 2022 up to now, and \n",
    "##### plot it together with the Bitcoin price.\n",
    "##### ● Listing out the important statistics of Bitcoin’s real volume from 2022 and discussing any\n",
    "##### findings/correlations. "
   ]
  },
  {
   "cell_type": "markdown",
   "metadata": {},
   "source": [
    "# . EDA: Exploratory Data Analysis "
   ]
  },
  {
   "cell_type": "code",
   "execution_count": 1,
   "metadata": {},
   "outputs": [],
   "source": [
    "#Initial Exploration 1: first observations,\n",
    "\n",
    "#Look for:\n",
    "\n",
    "#missing data\n",
    "#empty values\n",
    "#data type issues\n",
    "#basic descriptive statistics\n",
    "#basic visualizations\n",
    "#basic correlations\n",
    "#etc."
   ]
  },
  {
   "cell_type": "markdown",
   "metadata": {},
   "source": [
    "### Load data file"
   ]
  },
  {
   "cell_type": "code",
   "execution_count": 2,
   "metadata": {},
   "outputs": [],
   "source": [
    "import pandas as pd\n",
    "import numpy as np\n",
    "import seaborn as sns\n",
    "import matplotlib.pyplot as plt\n",
    "import scipy as sp\n",
    "import statsmodels.api as sm"
   ]
  },
  {
   "cell_type": "code",
   "execution_count": 3,
   "metadata": {},
   "outputs": [],
   "source": [
    "data_file = r\"Bitcoin-Historical-Data-csv.csv\""
   ]
  },
  {
   "cell_type": "code",
   "execution_count": 4,
   "metadata": {},
   "outputs": [],
   "source": [
    "df = pd.read_csv(data_file, encoding = \"ISO-8859-1\")"
   ]
  },
  {
   "cell_type": "code",
   "execution_count": 5,
   "metadata": {},
   "outputs": [
    {
     "data": {
      "text/html": [
       "<div>\n",
       "<style scoped>\n",
       "    .dataframe tbody tr th:only-of-type {\n",
       "        vertical-align: middle;\n",
       "    }\n",
       "\n",
       "    .dataframe tbody tr th {\n",
       "        vertical-align: top;\n",
       "    }\n",
       "\n",
       "    .dataframe thead th {\n",
       "        text-align: right;\n",
       "    }\n",
       "</style>\n",
       "<table border=\"1\" class=\"dataframe\">\n",
       "  <thead>\n",
       "    <tr style=\"text-align: right;\">\n",
       "      <th></th>\n",
       "      <th>Date</th>\n",
       "      <th>Price($)</th>\n",
       "      <th>Open</th>\n",
       "      <th>High</th>\n",
       "      <th>Low</th>\n",
       "      <th>Volume</th>\n",
       "      <th>Change(%)</th>\n",
       "    </tr>\n",
       "  </thead>\n",
       "  <tbody>\n",
       "    <tr>\n",
       "      <th>0</th>\n",
       "      <td>2022-05-12T00:00:00Z</td>\n",
       "      <td>27605.9</td>\n",
       "      <td>29073.4</td>\n",
       "      <td>30136.7</td>\n",
       "      <td>26500.5</td>\n",
       "      <td>392730</td>\n",
       "      <td>-5.03</td>\n",
       "    </tr>\n",
       "    <tr>\n",
       "      <th>1</th>\n",
       "      <td>2022-05-11T00:00:00Z</td>\n",
       "      <td>29068.2</td>\n",
       "      <td>31008.0</td>\n",
       "      <td>32113.6</td>\n",
       "      <td>27835.5</td>\n",
       "      <td>296900</td>\n",
       "      <td>-6.25</td>\n",
       "    </tr>\n",
       "    <tr>\n",
       "      <th>2</th>\n",
       "      <td>2022-05-10T00:00:00Z</td>\n",
       "      <td>31007.5</td>\n",
       "      <td>30098.2</td>\n",
       "      <td>32621.2</td>\n",
       "      <td>29831.0</td>\n",
       "      <td>235610</td>\n",
       "      <td>3.03</td>\n",
       "    </tr>\n",
       "    <tr>\n",
       "      <th>3</th>\n",
       "      <td>2022-05-09T00:00:00Z</td>\n",
       "      <td>30095.0</td>\n",
       "      <td>34041.0</td>\n",
       "      <td>34227.0</td>\n",
       "      <td>30095.0</td>\n",
       "      <td>268090</td>\n",
       "      <td>-11.64</td>\n",
       "    </tr>\n",
       "    <tr>\n",
       "      <th>4</th>\n",
       "      <td>2022-05-08T00:00:00Z</td>\n",
       "      <td>34060.0</td>\n",
       "      <td>35468.0</td>\n",
       "      <td>35497.0</td>\n",
       "      <td>33727.0</td>\n",
       "      <td>671050000</td>\n",
       "      <td>-3.97</td>\n",
       "    </tr>\n",
       "  </tbody>\n",
       "</table>\n",
       "</div>"
      ],
      "text/plain": [
       "                   Date  Price($)     Open     High      Low     Volume  \\\n",
       "0  2022-05-12T00:00:00Z   27605.9  29073.4  30136.7  26500.5     392730   \n",
       "1  2022-05-11T00:00:00Z   29068.2  31008.0  32113.6  27835.5     296900   \n",
       "2  2022-05-10T00:00:00Z   31007.5  30098.2  32621.2  29831.0     235610   \n",
       "3  2022-05-09T00:00:00Z   30095.0  34041.0  34227.0  30095.0     268090   \n",
       "4  2022-05-08T00:00:00Z   34060.0  35468.0  35497.0  33727.0  671050000   \n",
       "\n",
       "   Change(%)  \n",
       "0      -5.03  \n",
       "1      -6.25  \n",
       "2       3.03  \n",
       "3     -11.64  \n",
       "4      -3.97  "
      ]
     },
     "execution_count": 5,
     "metadata": {},
     "output_type": "execute_result"
    }
   ],
   "source": [
    "df.head(5)"
   ]
  },
  {
   "cell_type": "markdown",
   "metadata": {},
   "source": [
    "# Initial examination: na, nan, zero, descriptive statistics etc"
   ]
  },
  {
   "cell_type": "markdown",
   "metadata": {},
   "source": [
    "### A good first step is to look at which columns are of interest and for those looking for null/na/nan/etc empty cells, or zero values, etc."
   ]
  },
  {
   "cell_type": "code",
   "execution_count": 6,
   "metadata": {},
   "outputs": [
    {
     "data": {
      "text/plain": [
       "(132, 7)"
      ]
     },
     "execution_count": 6,
     "metadata": {},
     "output_type": "execute_result"
    }
   ],
   "source": [
    "# for reference, how many rows are there in total\n",
    "df.shape"
   ]
  },
  {
   "cell_type": "code",
   "execution_count": 7,
   "metadata": {},
   "outputs": [
    {
     "data": {
      "text/plain": [
       "Date         0\n",
       "Price($)     0\n",
       "Open         0\n",
       "High         0\n",
       "Low          0\n",
       "Volume       0\n",
       "Change(%)    0\n",
       "dtype: int64"
      ]
     },
     "execution_count": 7,
     "metadata": {},
     "output_type": "execute_result"
    }
   ],
   "source": [
    "#Checking for missing values\n",
    "df.isna().sum()"
   ]
  },
  {
   "cell_type": "code",
   "execution_count": 8,
   "metadata": {},
   "outputs": [
    {
     "data": {
      "text/plain": [
       "0"
      ]
     },
     "execution_count": 8,
     "metadata": {},
     "output_type": "execute_result"
    }
   ],
   "source": [
    "#performing data deduplication\n",
    "df.duplicated().sum()"
   ]
  },
  {
   "cell_type": "code",
   "execution_count": 9,
   "metadata": {},
   "outputs": [
    {
     "data": {
      "text/html": [
       "<div>\n",
       "<style scoped>\n",
       "    .dataframe tbody tr th:only-of-type {\n",
       "        vertical-align: middle;\n",
       "    }\n",
       "\n",
       "    .dataframe tbody tr th {\n",
       "        vertical-align: top;\n",
       "    }\n",
       "\n",
       "    .dataframe thead th {\n",
       "        text-align: right;\n",
       "    }\n",
       "</style>\n",
       "<table border=\"1\" class=\"dataframe\">\n",
       "  <thead>\n",
       "    <tr style=\"text-align: right;\">\n",
       "      <th></th>\n",
       "      <th>Price($)</th>\n",
       "      <th>Open</th>\n",
       "      <th>High</th>\n",
       "      <th>Low</th>\n",
       "      <th>Volume</th>\n",
       "      <th>Change(%)</th>\n",
       "    </tr>\n",
       "  </thead>\n",
       "  <tbody>\n",
       "    <tr>\n",
       "      <th>count</th>\n",
       "      <td>132.000000</td>\n",
       "      <td>132.000000</td>\n",
       "      <td>132.000000</td>\n",
       "      <td>132.000000</td>\n",
       "      <td>1.320000e+02</td>\n",
       "      <td>132.000000</td>\n",
       "    </tr>\n",
       "    <tr>\n",
       "      <th>mean</th>\n",
       "      <td>40695.198485</td>\n",
       "      <td>40836.646212</td>\n",
       "      <td>41740.271212</td>\n",
       "      <td>39747.412121</td>\n",
       "      <td>4.583296e+08</td>\n",
       "      <td>-0.327652</td>\n",
       "    </tr>\n",
       "    <tr>\n",
       "      <th>std</th>\n",
       "      <td>3599.356780</td>\n",
       "      <td>3443.095203</td>\n",
       "      <td>3407.840020</td>\n",
       "      <td>3659.641775</td>\n",
       "      <td>8.422841e+08</td>\n",
       "      <td>3.525848</td>\n",
       "    </tr>\n",
       "    <tr>\n",
       "      <th>min</th>\n",
       "      <td>27605.900000</td>\n",
       "      <td>29073.400000</td>\n",
       "      <td>30136.700000</td>\n",
       "      <td>26500.500000</td>\n",
       "      <td>2.578000e+04</td>\n",
       "      <td>-11.640000</td>\n",
       "    </tr>\n",
       "    <tr>\n",
       "      <th>25%</th>\n",
       "      <td>38489.200000</td>\n",
       "      <td>38505.150000</td>\n",
       "      <td>39583.150000</td>\n",
       "      <td>37611.050000</td>\n",
       "      <td>6.440000e+04</td>\n",
       "      <td>-2.172500</td>\n",
       "    </tr>\n",
       "    <tr>\n",
       "      <th>50%</th>\n",
       "      <td>40858.900000</td>\n",
       "      <td>40968.300000</td>\n",
       "      <td>41822.900000</td>\n",
       "      <td>39681.800000</td>\n",
       "      <td>7.585136e+07</td>\n",
       "      <td>-0.140000</td>\n",
       "    </tr>\n",
       "    <tr>\n",
       "      <th>75%</th>\n",
       "      <td>43074.750000</td>\n",
       "      <td>43079.525000</td>\n",
       "      <td>43930.775000</td>\n",
       "      <td>42117.000000</td>\n",
       "      <td>4.801800e+08</td>\n",
       "      <td>1.485000</td>\n",
       "    </tr>\n",
       "    <tr>\n",
       "      <th>max</th>\n",
       "      <td>47738.000000</td>\n",
       "      <td>47738.700000</td>\n",
       "      <td>48199.000000</td>\n",
       "      <td>47029.000000</td>\n",
       "      <td>4.470000e+09</td>\n",
       "      <td>14.590000</td>\n",
       "    </tr>\n",
       "  </tbody>\n",
       "</table>\n",
       "</div>"
      ],
      "text/plain": [
       "           Price($)          Open          High           Low        Volume  \\\n",
       "count    132.000000    132.000000    132.000000    132.000000  1.320000e+02   \n",
       "mean   40695.198485  40836.646212  41740.271212  39747.412121  4.583296e+08   \n",
       "std     3599.356780   3443.095203   3407.840020   3659.641775  8.422841e+08   \n",
       "min    27605.900000  29073.400000  30136.700000  26500.500000  2.578000e+04   \n",
       "25%    38489.200000  38505.150000  39583.150000  37611.050000  6.440000e+04   \n",
       "50%    40858.900000  40968.300000  41822.900000  39681.800000  7.585136e+07   \n",
       "75%    43074.750000  43079.525000  43930.775000  42117.000000  4.801800e+08   \n",
       "max    47738.000000  47738.700000  48199.000000  47029.000000  4.470000e+09   \n",
       "\n",
       "        Change(%)  \n",
       "count  132.000000  \n",
       "mean    -0.327652  \n",
       "std      3.525848  \n",
       "min    -11.640000  \n",
       "25%     -2.172500  \n",
       "50%     -0.140000  \n",
       "75%      1.485000  \n",
       "max     14.590000  "
      ]
     },
     "execution_count": 9,
     "metadata": {},
     "output_type": "execute_result"
    }
   ],
   "source": [
    "df.describe()"
   ]
  },
  {
   "cell_type": "code",
   "execution_count": 10,
   "metadata": {},
   "outputs": [
    {
     "data": {
      "text/plain": [
       "Date          object\n",
       "Price($)     float64\n",
       "Open         float64\n",
       "High         float64\n",
       "Low          float64\n",
       "Volume         int64\n",
       "Change(%)    float64\n",
       "dtype: object"
      ]
     },
     "execution_count": 10,
     "metadata": {},
     "output_type": "execute_result"
    }
   ],
   "source": [
    "df.dtypes"
   ]
  },
  {
   "cell_type": "code",
   "execution_count": 11,
   "metadata": {},
   "outputs": [],
   "source": [
    "#convert object to datetime format\n",
    "df['Date'] = pd.to_datetime(df['Date'])"
   ]
  },
  {
   "cell_type": "code",
   "execution_count": 12,
   "metadata": {},
   "outputs": [
    {
     "data": {
      "text/plain": [
       "Date         datetime64[ns, UTC]\n",
       "Price($)                 float64\n",
       "Open                     float64\n",
       "High                     float64\n",
       "Low                      float64\n",
       "Volume                     int64\n",
       "Change(%)                float64\n",
       "dtype: object"
      ]
     },
     "execution_count": 12,
     "metadata": {},
     "output_type": "execute_result"
    }
   ],
   "source": [
    "df.dtypes"
   ]
  },
  {
   "cell_type": "code",
   "execution_count": 13,
   "metadata": {},
   "outputs": [
    {
     "data": {
      "text/html": [
       "<div>\n",
       "<style scoped>\n",
       "    .dataframe tbody tr th:only-of-type {\n",
       "        vertical-align: middle;\n",
       "    }\n",
       "\n",
       "    .dataframe tbody tr th {\n",
       "        vertical-align: top;\n",
       "    }\n",
       "\n",
       "    .dataframe thead th {\n",
       "        text-align: right;\n",
       "    }\n",
       "</style>\n",
       "<table border=\"1\" class=\"dataframe\">\n",
       "  <thead>\n",
       "    <tr style=\"text-align: right;\">\n",
       "      <th></th>\n",
       "      <th>Price($)</th>\n",
       "      <th>Open</th>\n",
       "      <th>High</th>\n",
       "      <th>Low</th>\n",
       "      <th>Volume</th>\n",
       "      <th>Change(%)</th>\n",
       "    </tr>\n",
       "    <tr>\n",
       "      <th>Date</th>\n",
       "      <th></th>\n",
       "      <th></th>\n",
       "      <th></th>\n",
       "      <th></th>\n",
       "      <th></th>\n",
       "      <th></th>\n",
       "    </tr>\n",
       "  </thead>\n",
       "  <tbody>\n",
       "    <tr>\n",
       "      <th>2022-01-03 00:00:00+00:00</th>\n",
       "      <td>46430.2</td>\n",
       "      <td>47293.9</td>\n",
       "      <td>47556.0</td>\n",
       "      <td>45704.0</td>\n",
       "      <td>41060</td>\n",
       "      <td>-1.86</td>\n",
       "    </tr>\n",
       "    <tr>\n",
       "      <th>2022-01-02 00:00:00+00:00</th>\n",
       "      <td>47311.8</td>\n",
       "      <td>47738.7</td>\n",
       "      <td>47944.9</td>\n",
       "      <td>46718.2</td>\n",
       "      <td>27020</td>\n",
       "      <td>-0.89</td>\n",
       "    </tr>\n",
       "    <tr>\n",
       "      <th>2022-01-01 00:00:00+00:00</th>\n",
       "      <td>47738.0</td>\n",
       "      <td>46217.5</td>\n",
       "      <td>47917.6</td>\n",
       "      <td>46217.5</td>\n",
       "      <td>31240</td>\n",
       "      <td>3.29</td>\n",
       "    </tr>\n",
       "  </tbody>\n",
       "</table>\n",
       "</div>"
      ],
      "text/plain": [
       "                           Price($)     Open     High      Low  Volume  \\\n",
       "Date                                                                     \n",
       "2022-01-03 00:00:00+00:00   46430.2  47293.9  47556.0  45704.0   41060   \n",
       "2022-01-02 00:00:00+00:00   47311.8  47738.7  47944.9  46718.2   27020   \n",
       "2022-01-01 00:00:00+00:00   47738.0  46217.5  47917.6  46217.5   31240   \n",
       "\n",
       "                           Change(%)  \n",
       "Date                                  \n",
       "2022-01-03 00:00:00+00:00      -1.86  \n",
       "2022-01-02 00:00:00+00:00      -0.89  \n",
       "2022-01-01 00:00:00+00:00       3.29  "
      ]
     },
     "execution_count": 13,
     "metadata": {},
     "output_type": "execute_result"
    }
   ],
   "source": [
    "df = df.set_index('Date')\n",
    "df.tail(3)"
   ]
  },
  {
   "cell_type": "code",
   "execution_count": 14,
   "metadata": {},
   "outputs": [
    {
     "data": {
      "text/plain": [
       "DatetimeIndex(['2022-05-12 00:00:00+00:00', '2022-05-11 00:00:00+00:00',\n",
       "               '2022-05-10 00:00:00+00:00', '2022-05-09 00:00:00+00:00',\n",
       "               '2022-05-08 00:00:00+00:00', '2022-05-07 00:00:00+00:00',\n",
       "               '2022-05-06 00:00:00+00:00', '2022-05-05 00:00:00+00:00',\n",
       "               '2022-05-04 00:00:00+00:00', '2022-05-03 00:00:00+00:00',\n",
       "               ...\n",
       "               '2022-01-10 00:00:00+00:00', '2022-01-09 00:00:00+00:00',\n",
       "               '2022-01-08 00:00:00+00:00', '2022-01-07 00:00:00+00:00',\n",
       "               '2022-01-06 00:00:00+00:00', '2022-01-05 00:00:00+00:00',\n",
       "               '2022-01-04 00:00:00+00:00', '2022-01-03 00:00:00+00:00',\n",
       "               '2022-01-02 00:00:00+00:00', '2022-01-01 00:00:00+00:00'],\n",
       "              dtype='datetime64[ns, UTC]', name='Date', length=132, freq=None)"
      ]
     },
     "execution_count": 14,
     "metadata": {},
     "output_type": "execute_result"
    }
   ],
   "source": [
    "df.index"
   ]
  },
  {
   "cell_type": "code",
   "execution_count": 15,
   "metadata": {},
   "outputs": [],
   "source": [
    "# Add columns with year, month, and weekday name\n",
    "df['Year'] = df.index.year\n",
    "df['Month'] = df.index.month\n",
    "df['Weekday Name'] = df.index.strftime(\"%A\")\n"
   ]
  },
  {
   "cell_type": "code",
   "execution_count": 16,
   "metadata": {},
   "outputs": [
    {
     "data": {
      "text/html": [
       "<div>\n",
       "<style scoped>\n",
       "    .dataframe tbody tr th:only-of-type {\n",
       "        vertical-align: middle;\n",
       "    }\n",
       "\n",
       "    .dataframe tbody tr th {\n",
       "        vertical-align: top;\n",
       "    }\n",
       "\n",
       "    .dataframe thead th {\n",
       "        text-align: right;\n",
       "    }\n",
       "</style>\n",
       "<table border=\"1\" class=\"dataframe\">\n",
       "  <thead>\n",
       "    <tr style=\"text-align: right;\">\n",
       "      <th></th>\n",
       "      <th>Price($)</th>\n",
       "      <th>Open</th>\n",
       "      <th>High</th>\n",
       "      <th>Low</th>\n",
       "      <th>Volume</th>\n",
       "      <th>Change(%)</th>\n",
       "      <th>Year</th>\n",
       "      <th>Month</th>\n",
       "      <th>Weekday Name</th>\n",
       "    </tr>\n",
       "    <tr>\n",
       "      <th>Date</th>\n",
       "      <th></th>\n",
       "      <th></th>\n",
       "      <th></th>\n",
       "      <th></th>\n",
       "      <th></th>\n",
       "      <th></th>\n",
       "      <th></th>\n",
       "      <th></th>\n",
       "      <th></th>\n",
       "    </tr>\n",
       "  </thead>\n",
       "  <tbody>\n",
       "    <tr>\n",
       "      <th>2022-02-08 00:00:00+00:00</th>\n",
       "      <td>44038.2</td>\n",
       "      <td>43833.9</td>\n",
       "      <td>45399.8</td>\n",
       "      <td>42705.0</td>\n",
       "      <td>92880</td>\n",
       "      <td>0.47</td>\n",
       "      <td>2022</td>\n",
       "      <td>2</td>\n",
       "      <td>Tuesday</td>\n",
       "    </tr>\n",
       "    <tr>\n",
       "      <th>2022-03-07 00:00:00+00:00</th>\n",
       "      <td>38024.8</td>\n",
       "      <td>38420.6</td>\n",
       "      <td>39532.0</td>\n",
       "      <td>37182.1</td>\n",
       "      <td>3020000000</td>\n",
       "      <td>-0.99</td>\n",
       "      <td>2022</td>\n",
       "      <td>3</td>\n",
       "      <td>Monday</td>\n",
       "    </tr>\n",
       "    <tr>\n",
       "      <th>2022-04-16 00:00:00+00:00</th>\n",
       "      <td>40382.0</td>\n",
       "      <td>40571.0</td>\n",
       "      <td>40691.0</td>\n",
       "      <td>40003.0</td>\n",
       "      <td>151310000</td>\n",
       "      <td>-0.44</td>\n",
       "      <td>2022</td>\n",
       "      <td>4</td>\n",
       "      <td>Saturday</td>\n",
       "    </tr>\n",
       "    <tr>\n",
       "      <th>2022-05-04 00:00:00+00:00</th>\n",
       "      <td>39688.0</td>\n",
       "      <td>37717.0</td>\n",
       "      <td>40021.0</td>\n",
       "      <td>37660.0</td>\n",
       "      <td>691490000</td>\n",
       "      <td>5.22</td>\n",
       "      <td>2022</td>\n",
       "      <td>5</td>\n",
       "      <td>Wednesday</td>\n",
       "    </tr>\n",
       "    <tr>\n",
       "      <th>2022-04-12 00:00:00+00:00</th>\n",
       "      <td>40078.0</td>\n",
       "      <td>39507.0</td>\n",
       "      <td>40678.0</td>\n",
       "      <td>39265.0</td>\n",
       "      <td>468270000</td>\n",
       "      <td>1.47</td>\n",
       "      <td>2022</td>\n",
       "      <td>4</td>\n",
       "      <td>Tuesday</td>\n",
       "    </tr>\n",
       "  </tbody>\n",
       "</table>\n",
       "</div>"
      ],
      "text/plain": [
       "                           Price($)     Open     High      Low      Volume  \\\n",
       "Date                                                                         \n",
       "2022-02-08 00:00:00+00:00   44038.2  43833.9  45399.8  42705.0       92880   \n",
       "2022-03-07 00:00:00+00:00   38024.8  38420.6  39532.0  37182.1  3020000000   \n",
       "2022-04-16 00:00:00+00:00   40382.0  40571.0  40691.0  40003.0   151310000   \n",
       "2022-05-04 00:00:00+00:00   39688.0  37717.0  40021.0  37660.0   691490000   \n",
       "2022-04-12 00:00:00+00:00   40078.0  39507.0  40678.0  39265.0   468270000   \n",
       "\n",
       "                           Change(%)  Year  Month Weekday Name  \n",
       "Date                                                            \n",
       "2022-02-08 00:00:00+00:00       0.47  2022      2      Tuesday  \n",
       "2022-03-07 00:00:00+00:00      -0.99  2022      3       Monday  \n",
       "2022-04-16 00:00:00+00:00      -0.44  2022      4     Saturday  \n",
       "2022-05-04 00:00:00+00:00       5.22  2022      5    Wednesday  \n",
       "2022-04-12 00:00:00+00:00       1.47  2022      4      Tuesday  "
      ]
     },
     "execution_count": 16,
     "metadata": {},
     "output_type": "execute_result"
    }
   ],
   "source": [
    "# Display a random sampling of 5 rows\n",
    "df.sample(5, random_state=0)"
   ]
  },
  {
   "cell_type": "markdown",
   "metadata": {},
   "source": [
    "## Data Aggregation & Plotting"
   ]
  },
  {
   "cell_type": "code",
   "execution_count": 17,
   "metadata": {},
   "outputs": [],
   "source": [
    "#Aggregation is the process of implementing any mathematical operation on\n",
    "#a dataset or a subset of it. Aggregation is one of the many techniques in\n",
    "#pandas that's used to manipulate the data in the dataframe for data analysis."
   ]
  },
  {
   "cell_type": "code",
   "execution_count": 18,
   "metadata": {},
   "outputs": [
    {
     "data": {
      "image/png": "[encoded data removed]",
      "text/plain": [
       "<Figure size 432x288 with 1 Axes>"
      ]
     },
     "metadata": {
      "needs_background": "light"
     },
     "output_type": "display_data"
    }
   ],
   "source": [
    "df.groupby(df.index).agg('sum').plot(kind='line', y='Price($)')\n",
    "plt.savefig('output1.jpg')\n",
    "plt.show()"
   ]
  },
  {
   "cell_type": "code",
   "execution_count": 19,
   "metadata": {},
   "outputs": [
    {
     "data": {
      "image/png": "[encoded data removed]",
      "text/plain": [
       "<Figure size 432x288 with 1 Axes>"
      ]
     },
     "metadata": {
      "needs_background": "light"
     },
     "output_type": "display_data"
    }
   ],
   "source": [
    "df.groupby(df.index).agg('sum').plot(kind='line', y='Volume')\n",
    "plt.savefig('output2.png')\n",
    "plt.show()"
   ]
  },
  {
   "cell_type": "code",
   "execution_count": 20,
   "metadata": {},
   "outputs": [
    {
     "data": {
      "image/png": "[encoded data removed]",
      "text/plain": [
       "<Figure size 432x288 with 1 Axes>"
      ]
     },
     "metadata": {
      "needs_background": "light"
     },
     "output_type": "display_data"
    }
   ],
   "source": [
    "df.groupby(df.index).agg('sum').plot(kind='line', y=['Price($)', 'Volume'])\n",
    "plt.savefig('output3.png')\n",
    "plt.show()"
   ]
  },
  {
   "cell_type": "markdown",
   "metadata": {},
   "source": [
    "### Important statistics of Bitcoin’s real volume from 2022"
   ]
  },
  {
   "cell_type": "markdown",
   "metadata": {},
   "source": [
    "#### Measures Of Central Tendency"
   ]
  },
  {
   "cell_type": "code",
   "execution_count": 21,
   "metadata": {},
   "outputs": [
    {
     "name": "stdout",
     "output_type": "stream",
     "text": [
      "458329598.7121212 75851365.0 0           25780\n",
      "1           25880\n",
      "2           27020\n",
      "3           28660\n",
      "4           31200\n",
      "          ...    \n",
      "127    3020000000\n",
      "128    3210000000\n",
      "129    3600000000\n",
      "130    3620000000\n",
      "131    4470000000\n",
      "Length: 132, dtype: int64\n"
     ]
    }
   ],
   "source": [
    "volume =df[\"Volume\"]\n",
    "mean = volume.mean()\n",
    "median =volume.median()\n",
    "mode = volume.mode()\n",
    "print(mean, median, mode)"
   ]
  },
  {
   "cell_type": "code",
   "execution_count": 22,
   "metadata": {},
   "outputs": [
    {
     "name": "stderr",
     "output_type": "stream",
     "text": [
      "C:\\Users\\user\\anaconda3\\lib\\site-packages\\seaborn\\axisgrid.py:316: UserWarning: The `size` parameter has been renamed to `height`; please update your code.\n",
      "  warnings.warn(msg, UserWarning)\n",
      "C:\\Users\\user\\anaconda3\\lib\\site-packages\\seaborn\\distributions.py:2551: FutureWarning: `distplot` is a deprecated function and will be removed in a future version. Please adapt your code to use either `displot` (a figure-level function with similar flexibility) or `histplot` (an axes-level function for histograms).\n",
      "  warnings.warn(msg, FutureWarning)\n"
     ]
    },
    {
     "data": {
      "text/plain": [
       "<seaborn.axisgrid.FacetGrid at 0x25e859b5400>"
      ]
     },
     "execution_count": 22,
     "metadata": {},
     "output_type": "execute_result"
    },
    {
     "data": {
      "image/png": "[encoded data removed]",
      "text/plain": [
       "<Figure size 368x360 with 1 Axes>"
      ]
     },
     "metadata": {
      "needs_background": "light"
     },
     "output_type": "display_data"
    }
   ],
   "source": [
    "#distribution plot\n",
    "sns.FacetGrid(df,size=5).map(sns.distplot,\"Volume\").add_legend()"
   ]
  },
  {
   "cell_type": "code",
   "execution_count": 23,
   "metadata": {},
   "outputs": [
    {
     "name": "stderr",
     "output_type": "stream",
     "text": [
      "C:\\Users\\user\\anaconda3\\lib\\site-packages\\seaborn\\axisgrid.py:316: UserWarning: The `size` parameter has been renamed to `height`; please update your code.\n",
      "  warnings.warn(msg, UserWarning)\n",
      "C:\\Users\\user\\anaconda3\\lib\\site-packages\\seaborn\\distributions.py:2551: FutureWarning: `distplot` is a deprecated function and will be removed in a future version. Please adapt your code to use either `displot` (a figure-level function with similar flexibility) or `histplot` (an axes-level function for histograms).\n",
      "  warnings.warn(msg, FutureWarning)\n"
     ]
    },
    {
     "data": {
      "text/plain": [
       "<seaborn.axisgrid.FacetGrid at 0x25e85b96940>"
      ]
     },
     "execution_count": 23,
     "metadata": {},
     "output_type": "execute_result"
    },
    {
     "data": {
      "image/png": "[encoded data removed]",
      "text/plain": [
       "<Figure size 368x360 with 1 Axes>"
      ]
     },
     "metadata": {
      "needs_background": "light"
     },
     "output_type": "display_data"
    }
   ],
   "source": [
    "sns.FacetGrid(df,size=5).map(sns.distplot,\"Price($)\").add_legend()"
   ]
  },
  {
   "cell_type": "code",
   "execution_count": 24,
   "metadata": {},
   "outputs": [
    {
     "data": {
      "image/png": "[encoded data removed]",
      "text/plain": [
       "<Figure size 432x288 with 1 Axes>"
      ]
     },
     "metadata": {
      "needs_background": "light"
     },
     "output_type": "display_data"
    }
   ],
   "source": [
    "#boxplot for price of bitcoin\n",
    "sns.boxplot(x=\"Price($)\",data=df)\n",
    "plt.show()\n"
   ]
  },
  {
   "cell_type": "code",
   "execution_count": 25,
   "metadata": {},
   "outputs": [
    {
     "data": {
      "text/plain": [
       "Text(0, 0.5, 'Price($)')"
      ]
     },
     "execution_count": 25,
     "metadata": {},
     "output_type": "execute_result"
    },
    {
     "data": {
      "image/png": "[encoded data removed]",
      "text/plain": [
       "<Figure size 432x288 with 1 Axes>"
      ]
     },
     "metadata": {
      "needs_background": "light"
     },
     "output_type": "display_data"
    }
   ],
   "source": [
    "# plot the relationship between “volume” and ”price”\n",
    "plt.scatter(df[\"Price($)\"], df[\"Volume\"])\n",
    "plt.title(\"Scatter Plot for Volume vs Price\")\n",
    "plt.xlabel(\"Volume\")\n",
    "plt.ylabel(\"Price($)\")\n"
   ]
  },
  {
   "cell_type": "code",
   "execution_count": 26,
   "metadata": {},
   "outputs": [
    {
     "data": {
      "image/png": "[encoded data removed]",
      "text/plain": [
       "<Figure size 540x540 with 12 Axes>"
      ]
     },
     "metadata": {
      "needs_background": "light"
     },
     "output_type": "display_data"
    }
   ],
   "source": [
    "# pair plot with plot type regression\n",
    "sns.pairplot(df,vars = ['Volume', 'Price($)','Change(%)'], kind=\"reg\")\n",
    "plt.show()\n"
   ]
  },
  {
   "cell_type": "code",
   "execution_count": 45,
   "metadata": {},
   "outputs": [
    {
     "name": "stdout",
     "output_type": "stream",
     "text": [
      "p-value:\t 0.00012455196193768303\n",
      "cor:\t\t 0.3278084661161298\n"
     ]
    }
   ],
   "source": [
    "from scipy import stats\n",
    "corr = stats.pearsonr(df[\"Price($)\"], df[\"Change(%)\"])\n",
    "print(\"p-value:\\t\", corr[1])\n",
    "print(\"cor:\\t\\t\", corr[0])\n"
   ]
  },
  {
   "cell_type": "code",
   "execution_count": 46,
   "metadata": {},
   "outputs": [
    {
     "data": {
      "text/html": [
       "<div>\n",
       "<style scoped>\n",
       "    .dataframe tbody tr th:only-of-type {\n",
       "        vertical-align: middle;\n",
       "    }\n",
       "\n",
       "    .dataframe tbody tr th {\n",
       "        vertical-align: top;\n",
       "    }\n",
       "\n",
       "    .dataframe thead th {\n",
       "        text-align: right;\n",
       "    }\n",
       "</style>\n",
       "<table border=\"1\" class=\"dataframe\">\n",
       "  <thead>\n",
       "    <tr style=\"text-align: right;\">\n",
       "      <th></th>\n",
       "      <th>Price($)</th>\n",
       "      <th>Open</th>\n",
       "      <th>High</th>\n",
       "      <th>Low</th>\n",
       "      <th>Volume</th>\n",
       "      <th>Change(%)</th>\n",
       "      <th>Year</th>\n",
       "      <th>Month</th>\n",
       "    </tr>\n",
       "  </thead>\n",
       "  <tbody>\n",
       "    <tr>\n",
       "      <th>Price($)</th>\n",
       "      <td>1.000000</td>\n",
       "      <td>0.923335</td>\n",
       "      <td>0.965554</td>\n",
       "      <td>0.970351</td>\n",
       "      <td>-0.059374</td>\n",
       "      <td>0.327808</td>\n",
       "      <td>NaN</td>\n",
       "      <td>-0.241648</td>\n",
       "    </tr>\n",
       "    <tr>\n",
       "      <th>Open</th>\n",
       "      <td>0.923335</td>\n",
       "      <td>1.000000</td>\n",
       "      <td>0.967843</td>\n",
       "      <td>0.964146</td>\n",
       "      <td>-0.071047</td>\n",
       "      <td>-0.058498</td>\n",
       "      <td>NaN</td>\n",
       "      <td>-0.219982</td>\n",
       "    </tr>\n",
       "    <tr>\n",
       "      <th>High</th>\n",
       "      <td>0.965554</td>\n",
       "      <td>0.967843</td>\n",
       "      <td>1.000000</td>\n",
       "      <td>0.958009</td>\n",
       "      <td>-0.045820</td>\n",
       "      <td>0.132236</td>\n",
       "      <td>NaN</td>\n",
       "      <td>-0.231152</td>\n",
       "    </tr>\n",
       "    <tr>\n",
       "      <th>Low</th>\n",
       "      <td>0.970351</td>\n",
       "      <td>0.964146</td>\n",
       "      <td>0.958009</td>\n",
       "      <td>1.000000</td>\n",
       "      <td>-0.073914</td>\n",
       "      <td>0.148540</td>\n",
       "      <td>NaN</td>\n",
       "      <td>-0.202325</td>\n",
       "    </tr>\n",
       "    <tr>\n",
       "      <th>Volume</th>\n",
       "      <td>-0.059374</td>\n",
       "      <td>-0.071047</td>\n",
       "      <td>-0.045820</td>\n",
       "      <td>-0.073914</td>\n",
       "      <td>1.000000</td>\n",
       "      <td>0.030436</td>\n",
       "      <td>NaN</td>\n",
       "      <td>0.262634</td>\n",
       "    </tr>\n",
       "    <tr>\n",
       "      <th>Change(%)</th>\n",
       "      <td>0.327808</td>\n",
       "      <td>-0.058498</td>\n",
       "      <td>0.132236</td>\n",
       "      <td>0.148540</td>\n",
       "      <td>0.030436</td>\n",
       "      <td>1.000000</td>\n",
       "      <td>NaN</td>\n",
       "      <td>-0.101279</td>\n",
       "    </tr>\n",
       "    <tr>\n",
       "      <th>Year</th>\n",
       "      <td>NaN</td>\n",
       "      <td>NaN</td>\n",
       "      <td>NaN</td>\n",
       "      <td>NaN</td>\n",
       "      <td>NaN</td>\n",
       "      <td>NaN</td>\n",
       "      <td>NaN</td>\n",
       "      <td>NaN</td>\n",
       "    </tr>\n",
       "    <tr>\n",
       "      <th>Month</th>\n",
       "      <td>-0.241648</td>\n",
       "      <td>-0.219982</td>\n",
       "      <td>-0.231152</td>\n",
       "      <td>-0.202325</td>\n",
       "      <td>0.262634</td>\n",
       "      <td>-0.101279</td>\n",
       "      <td>NaN</td>\n",
       "      <td>1.000000</td>\n",
       "    </tr>\n",
       "  </tbody>\n",
       "</table>\n",
       "</div>"
      ],
      "text/plain": [
       "           Price($)      Open      High       Low    Volume  Change(%)  Year  \\\n",
       "Price($)   1.000000  0.923335  0.965554  0.970351 -0.059374   0.327808   NaN   \n",
       "Open       0.923335  1.000000  0.967843  0.964146 -0.071047  -0.058498   NaN   \n",
       "High       0.965554  0.967843  1.000000  0.958009 -0.045820   0.132236   NaN   \n",
       "Low        0.970351  0.964146  0.958009  1.000000 -0.073914   0.148540   NaN   \n",
       "Volume    -0.059374 -0.071047 -0.045820 -0.073914  1.000000   0.030436   NaN   \n",
       "Change(%)  0.327808 -0.058498  0.132236  0.148540  0.030436   1.000000   NaN   \n",
       "Year            NaN       NaN       NaN       NaN       NaN        NaN   NaN   \n",
       "Month     -0.241648 -0.219982 -0.231152 -0.202325  0.262634  -0.101279   NaN   \n",
       "\n",
       "              Month  \n",
       "Price($)  -0.241648  \n",
       "Open      -0.219982  \n",
       "High      -0.231152  \n",
       "Low       -0.202325  \n",
       "Volume     0.262634  \n",
       "Change(%) -0.101279  \n",
       "Year            NaN  \n",
       "Month      1.000000  "
      ]
     },
     "execution_count": 46,
     "metadata": {},
     "output_type": "execute_result"
    }
   ],
   "source": [
    "correlation = df.corr(method='pearson')\n",
    "correlation\n"
   ]
  },
  {
   "cell_type": "code",
   "execution_count": 47,
   "metadata": {},
   "outputs": [
    {
     "data": {
      "text/plain": [
       "<AxesSubplot:>"
      ]
     },
     "execution_count": 47,
     "metadata": {},
     "output_type": "execute_result"
    },
    {
     "data": {
      "image/png": "[encoded data removed]",
      "text/plain": [
       "<Figure size 432x288 with 2 Axes>"
      ]
     },
     "metadata": {
      "needs_background": "light"
     },
     "output_type": "display_data"
    }
   ],
   "source": [
    "sns.heatmap(correlation,xticklabels=correlation.columns, yticklabels=correlation.columns)\n"
   ]
  },
  {
   "cell_type": "markdown",
   "metadata": {},
   "source": [
    "###### Mean:  458329598.7121212\n",
    "###### Median: 75851365.0\n",
    "###### Mode:25780"
   ]
  },
  {
   "cell_type": "markdown",
   "metadata": {},
   "source": [
    "#### Measures Of Dispersion"
   ]
  },
  {
   "cell_type": "code",
   "execution_count": 48,
   "metadata": {},
   "outputs": [
    {
     "name": "stdout",
     "output_type": "stream",
     "text": [
      "Price($)     3.599357e+03\n",
      "Open         3.443095e+03\n",
      "High         3.407840e+03\n",
      "Low          3.659642e+03\n",
      "Volume       8.422841e+08\n",
      "Change(%)    3.525848e+00\n",
      "Year         0.000000e+00\n",
      "Month        1.311262e+00\n",
      "dtype: float64\n"
     ]
    }
   ],
   "source": [
    "#standard variance of dataset using std() function\n",
    "std_dev =df.std()\n",
    "print(std_dev)"
   ]
  },
  {
   "cell_type": "code",
   "execution_count": 49,
   "metadata": {},
   "outputs": [
    {
     "name": "stdout",
     "output_type": "stream",
     "text": [
      "842284098.2204366\n"
     ]
    }
   ],
   "source": [
    "# standard variance of the specific column(volume)\n",
    "sv_volume=df.loc[:,\"Volume\"].std()\n",
    "print(sv_volume)"
   ]
  },
  {
   "cell_type": "code",
   "execution_count": 50,
   "metadata": {},
   "outputs": [
    {
     "name": "stdout",
     "output_type": "stream",
     "text": [
      "Price($)     1.295537e+07\n",
      "Open         1.185490e+07\n",
      "High         1.161337e+07\n",
      "Low          1.339298e+07\n",
      "Volume       7.094425e+17\n",
      "Change(%)    1.243160e+01\n",
      "Year         0.000000e+00\n",
      "Month        1.719408e+00\n",
      "dtype: float64\n"
     ]
    }
   ],
   "source": [
    "# variance of dataset using var() function\n",
    "variance=df.var()\n",
    "print(variance)"
   ]
  },
  {
   "cell_type": "code",
   "execution_count": 51,
   "metadata": {},
   "outputs": [
    {
     "name": "stdout",
     "output_type": "stream",
     "text": [
      "7.09442502115014e+17\n"
     ]
    }
   ],
   "source": [
    "# variance of the specific column(volume)\n",
    "var_volume=df.loc[:,\"Volume\"].var()\n",
    "print(var_volume)"
   ]
  },
  {
   "cell_type": "markdown",
   "metadata": {},
   "source": [
    "## Skewness"
   ]
  },
  {
   "cell_type": "markdown",
   "metadata": {},
   "source": [
    "###### In probability theory and statistics, skewness is a measure of the asymmetry of the variable in the dataset about its mean. The skewness value can be positive or negative, or undefined. The skewness value tells us whether the data is skewed or symmetric. "
   ]
  },
  {
   "cell_type": "code",
   "execution_count": 52,
   "metadata": {},
   "outputs": [
    {
     "data": {
      "text/plain": [
       "2.7189748870410475"
      ]
     },
     "execution_count": 52,
     "metadata": {},
     "output_type": "execute_result"
    }
   ],
   "source": [
    "df.loc[:,\"Volume\"].skew() "
   ]
  },
  {
   "cell_type": "markdown",
   "metadata": {},
   "source": [
    "## Kurtosis"
   ]
  },
  {
   "cell_type": "markdown",
   "metadata": {},
   "source": [
    "###### Kurtosis, is the measure of outlier presence in a given distribution. Both high and low kurtosis are an indicator that data needs further investigation. The higher the kurtosis, the higher the outliers. \n"
   ]
  },
  {
   "cell_type": "code",
   "execution_count": 53,
   "metadata": {},
   "outputs": [
    {
     "name": "stdout",
     "output_type": "stream",
     "text": [
      "7.400269246832298\n"
     ]
    }
   ],
   "source": [
    "#Kurtosis Of the Volume\n",
    "# Kurtosis of the specific column\n",
    "value=df.loc[:,\"Volume\"].kurt()\n",
    "print(value)"
   ]
  },
  {
   "cell_type": "code",
   "execution_count": 54,
   "metadata": {},
   "outputs": [
    {
     "name": "stdout",
     "output_type": "stream",
     "text": [
      "This distribution has skew 2.7189748870410475\n",
      "This distribution has kurtosis 7.400269246832298\n"
     ]
    },
    {
     "data": {
      "image/png": "[encoded data removed]",
      "text/plain": [
       "<Figure size 432x288 with 1 Axes>"
      ]
     },
     "metadata": {
      "needs_background": "light"
     },
     "output_type": "display_data"
    }
   ],
   "source": [
    "norm=df.Volume\n",
    "norm.plot(kind = 'density')\n",
    "print('This distribution has skew', norm.skew())\n",
    "print('This distribution has kurtosis', norm.kurt())\n",
    "plt.savefig('output4.png')"
   ]
  },
  {
   "cell_type": "markdown",
   "metadata": {},
   "source": [
    "##### The graph on the left-hand side has a tail that is longer on the right hand side. If you select any point on the right-hand tail, the mean value is greater than the mode. Hence it is positively skewed"
   ]
  },
  {
   "cell_type": "markdown",
   "metadata": {},
   "source": [
    "##### The distribution has kurtosis greater than 3 and the fat tails indicate that the distribution produces more outliers, hence it is Leptokurtic "
   ]
  },
  {
   "cell_type": "markdown",
   "metadata": {},
   "source": [
    "### Percentiles "
   ]
  },
  {
   "cell_type": "code",
   "execution_count": 55,
   "metadata": {},
   "outputs": [
    {
     "name": "stdout",
     "output_type": "stream",
     "text": [
      "75851365.0\n"
     ]
    }
   ],
   "source": [
    "#50th percentile\n",
    "volume = df[\"Volume\"]\n",
    "percentile = np.percentile(volume, 50,)\n",
    "print(percentile)"
   ]
  },
  {
   "cell_type": "markdown",
   "metadata": {},
   "source": [
    "######  A pattern is shown as the 50th percentile corresponds to the median"
   ]
  },
  {
   "cell_type": "code",
   "execution_count": 56,
   "metadata": {},
   "outputs": [
    {
     "name": "stdout",
     "output_type": "stream",
     "text": [
      "480180000.0\n"
     ]
    }
   ],
   "source": [
    "#Upper Quartile\n",
    "volume = df[\"Volume\"]\n",
    "percentile = np.percentile(volume, 75,)\n",
    "print(percentile)"
   ]
  },
  {
   "cell_type": "code",
   "execution_count": 57,
   "metadata": {},
   "outputs": [
    {
     "name": "stdout",
     "output_type": "stream",
     "text": [
      "64400.0\n"
     ]
    }
   ],
   "source": [
    "#Lower Quartile\n",
    "volume = df[\"Volume\"]\n",
    "percentile = np.percentile(volume, 25,)\n",
    "print(percentile)"
   ]
  },
  {
   "cell_type": "markdown",
   "metadata": {},
   "source": [
    "### Quartiles"
   ]
  },
  {
   "cell_type": "code",
   "execution_count": 58,
   "metadata": {},
   "outputs": [
    {
     "data": {
      "text/plain": [
       "480115600.0"
      ]
     },
     "execution_count": 58,
     "metadata": {},
     "output_type": "execute_result"
    }
   ],
   "source": [
    "#Deducing the Inter-Quartile Range\n",
    "volume = df.Volume.sort_values()\n",
    "Q1 = np.percentile(volume, 25)\n",
    "Q2 = np.percentile(volume, 50)\n",
    "Q3 = np.percentile(volume, 75)\n",
    "IQR = Q3 - Q1\n",
    "IQR\n"
   ]
  },
  {
   "cell_type": "code",
   "execution_count": 59,
   "metadata": {},
   "outputs": [],
   "source": [
    "#Visualizing the Quartiles"
   ]
  },
  {
   "cell_type": "code",
   "execution_count": 60,
   "metadata": {},
   "outputs": [],
   "source": [
    "df2=df.select_dtypes(exclude=['object'])"
   ]
  },
  {
   "cell_type": "code",
   "execution_count": 61,
   "metadata": {},
   "outputs": [
    {
     "data": {
      "image/png": "[encoded data removed]",
      "text/plain": [
       "<Figure size 432x288 with 1 Axes>"
      ]
     },
     "metadata": {
      "needs_background": "light"
     },
     "output_type": "display_data"
    }
   ],
   "source": [
    "box = plt.boxplot(df.Volume, showmeans=True, whis = 99)\n",
    "plt.grid(True, axis='y')  \n",
    "plt.title('Distribution of the Volume', fontsize=18) \n",
    "plt.savefig('output5.png')\n",
    "plt.show()"
   ]
  },
  {
   "cell_type": "markdown",
   "metadata": {},
   "source": [
    "### The preceding diagram illustrates the fact that the box goes from the upper to the lower quartile (around 70 thousand and 500 million), while the whiskers (the bars extending from the box) go to a minimum of 30 thousand and a maximum of 4.5 billion. The redline is the median (around 70 million), whereas the little triangle (green color) is the mean. \n"
   ]
  },
  {
   "cell_type": "code",
   "execution_count": null,
   "metadata": {},
   "outputs": [],
   "source": []
  }
 ],
 "metadata": {
  "kernelspec": {
   "display_name": "Python 3",
   "language": "python",
   "name": "python3"
  },
  "language_info": {
   "codemirror_mode": {
    "name": "ipython",
    "version": 3
   },
   "file_extension": ".py",
   "mimetype": "text/x-python",
   "name": "python",
   "nbconvert_exporter": "python",
   "pygments_lexer": "ipython3",
   "version": "3.8.5"
  }
 },
 "nbformat": 4,
 "nbformat_minor": 4
}
